{
 "cells": [
  {
   "cell_type": "code",
   "execution_count": 4,
   "id": "7a3583df",
   "metadata": {},
   "outputs": [],
   "source": [
    "!pip install pyarrow --quiet "
   ]
  },
  {
   "cell_type": "code",
   "execution_count": 1,
   "id": "1c4bd286",
   "metadata": {},
   "outputs": [],
   "source": [
    "import pandas as pd\n",
    "import seaborn as sns\n",
    "import matplotlib.pyplot as plt\n",
    "import pickle\n",
    "\n",
    "from sklearn.feature_extraction import DictVectorizer\n",
    "from sklearn.linear_model import LinearRegression\n",
    "from sklearn.linear_model import Lasso\n",
    "from sklearn.linear_model import Ridge\n",
    "\n",
    "from sklearn.metrics import mean_squared_error"
   ]
  },
  {
   "cell_type": "code",
   "execution_count": 2,
   "id": "6b03d12e",
   "metadata": {},
   "outputs": [
    {
     "name": "stdout",
     "output_type": "stream",
     "text": [
      "Untitled.ipynb\tdata\r\n"
     ]
    }
   ],
   "source": [
    "!ls"
   ]
  },
  {
   "cell_type": "code",
   "execution_count": 59,
   "id": "c05a52a7",
   "metadata": {},
   "outputs": [],
   "source": [
    "df = pd.read_parquet('data/fhv_tripdata_2021-01.parquet')"
   ]
  },
  {
   "cell_type": "code",
   "execution_count": 4,
   "id": "e04864f6",
   "metadata": {},
   "outputs": [
    {
     "name": "stdout",
     "output_type": "stream",
     "text": [
      "<class 'pandas.core.frame.DataFrame'>\n",
      "RangeIndex: 1154112 entries, 0 to 1154111\n",
      "Data columns (total 7 columns):\n",
      " #   Column                  Non-Null Count    Dtype         \n",
      "---  ------                  --------------    -----         \n",
      " 0   dispatching_base_num    1154112 non-null  object        \n",
      " 1   pickup_datetime         1154112 non-null  datetime64[ns]\n",
      " 2   dropOff_datetime        1154112 non-null  datetime64[ns]\n",
      " 3   PUlocationID            195845 non-null   float64       \n",
      " 4   DOlocationID            991892 non-null   float64       \n",
      " 5   SR_Flag                 0 non-null        object        \n",
      " 6   Affiliated_base_number  1153227 non-null  object        \n",
      "dtypes: datetime64[ns](2), float64(2), object(3)\n",
      "memory usage: 61.6+ MB\n"
     ]
    }
   ],
   "source": [
    "df.info()"
   ]
  },
  {
   "cell_type": "code",
   "execution_count": 5,
   "id": "7426afa2",
   "metadata": {},
   "outputs": [
    {
     "data": {
      "text/plain": [
       "(1154112, 7)"
      ]
     },
     "execution_count": 5,
     "metadata": {},
     "output_type": "execute_result"
    }
   ],
   "source": [
    "df.shape"
   ]
  },
  {
   "cell_type": "code",
   "execution_count": 6,
   "id": "a6d4196e",
   "metadata": {},
   "outputs": [
    {
     "data": {
      "text/html": [
       "<div>\n",
       "<style scoped>\n",
       "    .dataframe tbody tr th:only-of-type {\n",
       "        vertical-align: middle;\n",
       "    }\n",
       "\n",
       "    .dataframe tbody tr th {\n",
       "        vertical-align: top;\n",
       "    }\n",
       "\n",
       "    .dataframe thead th {\n",
       "        text-align: right;\n",
       "    }\n",
       "</style>\n",
       "<table border=\"1\" class=\"dataframe\">\n",
       "  <thead>\n",
       "    <tr style=\"text-align: right;\">\n",
       "      <th></th>\n",
       "      <th>dispatching_base_num</th>\n",
       "      <th>pickup_datetime</th>\n",
       "      <th>dropOff_datetime</th>\n",
       "      <th>PUlocationID</th>\n",
       "      <th>DOlocationID</th>\n",
       "      <th>SR_Flag</th>\n",
       "      <th>Affiliated_base_number</th>\n",
       "    </tr>\n",
       "  </thead>\n",
       "  <tbody>\n",
       "    <tr>\n",
       "      <th>0</th>\n",
       "      <td>B00009</td>\n",
       "      <td>2021-01-01 00:27:00</td>\n",
       "      <td>2021-01-01 00:44:00</td>\n",
       "      <td>NaN</td>\n",
       "      <td>NaN</td>\n",
       "      <td>None</td>\n",
       "      <td>B00009</td>\n",
       "    </tr>\n",
       "    <tr>\n",
       "      <th>1</th>\n",
       "      <td>B00009</td>\n",
       "      <td>2021-01-01 00:50:00</td>\n",
       "      <td>2021-01-01 01:07:00</td>\n",
       "      <td>NaN</td>\n",
       "      <td>NaN</td>\n",
       "      <td>None</td>\n",
       "      <td>B00009</td>\n",
       "    </tr>\n",
       "    <tr>\n",
       "      <th>2</th>\n",
       "      <td>B00013</td>\n",
       "      <td>2021-01-01 00:01:00</td>\n",
       "      <td>2021-01-01 01:51:00</td>\n",
       "      <td>NaN</td>\n",
       "      <td>NaN</td>\n",
       "      <td>None</td>\n",
       "      <td>B00013</td>\n",
       "    </tr>\n",
       "    <tr>\n",
       "      <th>3</th>\n",
       "      <td>B00037</td>\n",
       "      <td>2021-01-01 00:13:09</td>\n",
       "      <td>2021-01-01 00:21:26</td>\n",
       "      <td>NaN</td>\n",
       "      <td>72.0</td>\n",
       "      <td>None</td>\n",
       "      <td>B00037</td>\n",
       "    </tr>\n",
       "    <tr>\n",
       "      <th>4</th>\n",
       "      <td>B00037</td>\n",
       "      <td>2021-01-01 00:38:31</td>\n",
       "      <td>2021-01-01 00:53:44</td>\n",
       "      <td>NaN</td>\n",
       "      <td>61.0</td>\n",
       "      <td>None</td>\n",
       "      <td>B00037</td>\n",
       "    </tr>\n",
       "  </tbody>\n",
       "</table>\n",
       "</div>"
      ],
      "text/plain": [
       "  dispatching_base_num     pickup_datetime    dropOff_datetime  PUlocationID  \\\n",
       "0               B00009 2021-01-01 00:27:00 2021-01-01 00:44:00           NaN   \n",
       "1               B00009 2021-01-01 00:50:00 2021-01-01 01:07:00           NaN   \n",
       "2               B00013 2021-01-01 00:01:00 2021-01-01 01:51:00           NaN   \n",
       "3               B00037 2021-01-01 00:13:09 2021-01-01 00:21:26           NaN   \n",
       "4               B00037 2021-01-01 00:38:31 2021-01-01 00:53:44           NaN   \n",
       "\n",
       "   DOlocationID SR_Flag Affiliated_base_number  \n",
       "0           NaN    None                 B00009  \n",
       "1           NaN    None                 B00009  \n",
       "2           NaN    None                 B00013  \n",
       "3          72.0    None                 B00037  \n",
       "4          61.0    None                 B00037  "
      ]
     },
     "execution_count": 6,
     "metadata": {},
     "output_type": "execute_result"
    }
   ],
   "source": [
    "df.head()"
   ]
  },
  {
   "cell_type": "code",
   "execution_count": 67,
   "id": "c436cfaf",
   "metadata": {},
   "outputs": [],
   "source": [
    "df['dropOff_month'] = df['dropOff_datetime'].dt.month\n",
    "df['pickup_month'] = df['pickup_datetime'].dt.month\n",
    "df['duration'] = (df['dropOff_datetime'] - df['pickup_datetime']).dt.total_seconds()/60"
   ]
  },
  {
   "cell_type": "code",
   "execution_count": 71,
   "id": "e6dc1e80",
   "metadata": {},
   "outputs": [
    {
     "data": {
      "text/plain": [
       "'The average trip duration in January is 19.1672240937939'"
      ]
     },
     "execution_count": 71,
     "metadata": {},
     "output_type": "execute_result"
    }
   ],
   "source": [
    "f\"The average trip duration in January is {df['duration'].mean()}\""
   ]
  },
  {
   "cell_type": "code",
   "execution_count": 74,
   "id": "6881c1cf",
   "metadata": {},
   "outputs": [
    {
     "data": {
      "text/plain": [
       "'The fractions of missing values for the pickup location ID is 83.03067639882438'"
      ]
     },
     "execution_count": 74,
     "metadata": {},
     "output_type": "execute_result"
    }
   ],
   "source": [
    "f\"The fractions of missing values for the pickup location ID is {null_df['PUlocationID']}\""
   ]
  },
  {
   "cell_type": "code",
   "execution_count": 97,
   "id": "e0383873",
   "metadata": {},
   "outputs": [],
   "source": [
    "# helper function\n",
    "def prepare_data(df, train=True, model=None):\n",
    "    print(f'Total records are {df.shape[0]}')\n",
    "    \n",
    "    df['dropOff_month'] = df['dropOff_datetime'].dt.month\n",
    "    df['pickup_month'] = df['pickup_datetime'].dt.month\n",
    "    df['duration'] = (df['dropOff_datetime'] - df['pickup_datetime']).dt.total_seconds()/60\n",
    "    \n",
    "    print(f\"The average trip duration in January is {df['duration'].mean()}\")\n",
    "    \n",
    "    duration_filter = (df['duration']>=1) & (df['duration'] <=60)\n",
    "    print(f'Total records dropped are {df.shape[0] - df[duration_filter].shape[0]}')\n",
    "    \n",
    "    df = df[duration_filter].copy()\n",
    "    \n",
    "    null_df = (100 * df.isna().sum()) / df.shape[0]\n",
    "    \n",
    "    print(f\"The fractions of missing values for the pickup location ID is {null_df['PUlocationID']}\")\n",
    "    \n",
    "    df[['PUlocationID', 'DOlocationID']] = df[['PUlocationID', 'DOlocationID']].fillna(-1)\n",
    "    \n",
    "    categorical = ['PUlocationID', 'DOlocationID']\n",
    "    numerical = ['duration']\n",
    "\n",
    "    df[categorical] = df[categorical].astype(str)\n",
    "    \n",
    "    train_dicts = df[categorical ].to_dict(orient='records')\n",
    "    \n",
    "    if train:\n",
    "        dv = DictVectorizer()\n",
    "        dv_matrix = dv.fit_transform(train_dicts)\n",
    "    \n",
    "        print(f'The dimensionality of this matrix is {dv_matrix.shape[1]}')\n",
    "        \n",
    "        return dv, dv_matrix, df['duration'].values\n",
    "    \n",
    "    else:\n",
    "        dv_matrix = model.transform(train_dicts)\n",
    "        \n",
    "        return dv_matrix, df['duration'].values"
   ]
  },
  {
   "cell_type": "code",
   "execution_count": 98,
   "id": "a140028a",
   "metadata": {},
   "outputs": [
    {
     "name": "stdout",
     "output_type": "stream",
     "text": [
      "Total records are 1154112\n",
      "The average trip duration in January is 19.1672240937939\n",
      "Total records dropped are 44286\n",
      "The fractions of missing values for the pickup location ID is 83.52732770722618\n",
      "The dimensionality of this matrix is 525\n"
     ]
    }
   ],
   "source": [
    "dvmodel, dv_matrix, y_train = prepare_data(df, train=True)"
   ]
  },
  {
   "cell_type": "code",
   "execution_count": 99,
   "id": "8dce000a",
   "metadata": {},
   "outputs": [
    {
     "data": {
      "text/plain": [
       "LinearRegression()"
      ]
     },
     "execution_count": 99,
     "metadata": {},
     "output_type": "execute_result"
    }
   ],
   "source": [
    "lr = LinearRegression()\n",
    "lr.fit(dv_matrix, y_train)"
   ]
  },
  {
   "cell_type": "code",
   "execution_count": 100,
   "id": "8122e649",
   "metadata": {},
   "outputs": [
    {
     "data": {
      "text/plain": [
       "10.52851910722331"
      ]
     },
     "execution_count": 100,
     "metadata": {},
     "output_type": "execute_result"
    }
   ],
   "source": [
    "y_pred = lr.predict(dv_matrix)\n",
    "mean_squared_error(y_train, y_pred, squared=False)"
   ]
  },
  {
   "cell_type": "code",
   "execution_count": 101,
   "id": "749acbd6",
   "metadata": {},
   "outputs": [],
   "source": [
    "valid_data = pd.read_parquet('data/fhv_tripdata_2021-02.parquet')"
   ]
  },
  {
   "cell_type": "code",
   "execution_count": 103,
   "id": "0bb11e12",
   "metadata": {},
   "outputs": [
    {
     "name": "stdout",
     "output_type": "stream",
     "text": [
      "Total records are 1037692\n",
      "The average trip duration in January is 20.70698622520125\n",
      "Total records dropped are 47579\n",
      "The fractions of missing values for the pickup location ID is 85.71354986754037\n"
     ]
    }
   ],
   "source": [
    "valid_dv_matrix, y_valid = prepare_data(valid_data, train=False, model=dvmodel)"
   ]
  },
  {
   "cell_type": "code",
   "execution_count": 104,
   "id": "3b0ed618",
   "metadata": {},
   "outputs": [],
   "source": [
    "valid_pred = lr.predict(valid_dv_matrix)"
   ]
  },
  {
   "cell_type": "code",
   "execution_count": 105,
   "id": "5e994419",
   "metadata": {},
   "outputs": [
    {
     "data": {
      "text/plain": [
       "11.014283231616073"
      ]
     },
     "execution_count": 105,
     "metadata": {},
     "output_type": "execute_result"
    }
   ],
   "source": [
    "mean_squared_error(valid_train, valid_pred, squared=False)"
   ]
  },
  {
   "cell_type": "code",
   "execution_count": null,
   "id": "98ad09b4",
   "metadata": {},
   "outputs": [],
   "source": []
  }
 ],
 "metadata": {
  "kernelspec": {
   "display_name": "Python 3 (ipykernel)",
   "language": "python",
   "name": "python3"
  },
  "language_info": {
   "codemirror_mode": {
    "name": "ipython",
    "version": 3
   },
   "file_extension": ".py",
   "mimetype": "text/x-python",
   "name": "python",
   "nbconvert_exporter": "python",
   "pygments_lexer": "ipython3",
   "version": "3.9.12"
  }
 },
 "nbformat": 4,
 "nbformat_minor": 5
}
